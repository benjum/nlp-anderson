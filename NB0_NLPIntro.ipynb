{
 "cells": [
  {
   "cell_type": "markdown",
   "id": "a057f008-5f33-4766-8690-4b4127ab1871",
   "metadata": {},
   "source": [
    "# Introduction to NLP with Quanteda"
   ]
  },
  {
   "cell_type": "code",
   "execution_count": null,
   "id": "8d214c7c-cead-4c3b-9d02-24262f917d05",
   "metadata": {},
   "outputs": [],
   "source": [
    "library('quanteda')"
   ]
  },
  {
   "cell_type": "code",
   "execution_count": null,
   "id": "72ba0cbe-0fc6-4bff-8626-5dd38d3e8583",
   "metadata": {},
   "outputs": [],
   "source": [
    "text <- '\n",
    "Call me Ishmael. Some years ago—never mind how long precisely—having little\n",
    "or no money in my purse, and nothing particular to interest me on shore, \n",
    "I thought I would sail about a little and see the watery part of the world.\n",
    "'"
   ]
  },
  {
   "cell_type": "code",
   "execution_count": null,
   "id": "56e6cf54-9661-4952-9b43-c82ebd294b3f",
   "metadata": {},
   "outputs": [],
   "source": [
    "print(text)"
   ]
  },
  {
   "cell_type": "markdown",
   "id": "e375e97c-d22b-43c9-9b2c-6352d7bd5ca6",
   "metadata": {},
   "source": [
    "## Tokenization"
   ]
  },
  {
   "cell_type": "code",
   "execution_count": null,
   "id": "70abc64a-8866-4623-8c1e-31b6ad912da4",
   "metadata": {},
   "outputs": [],
   "source": [
    "tokens(text)"
   ]
  },
  {
   "cell_type": "code",
   "execution_count": null,
   "id": "1f0030f8-6dfc-4732-b856-640041d8aa23",
   "metadata": {},
   "outputs": [],
   "source": [
    "word_toks <- tokens(text)\n",
    "word_toks[[1]]"
   ]
  },
  {
   "cell_type": "code",
   "execution_count": null,
   "id": "125912a9-f817-40d6-9454-b866181968ab",
   "metadata": {},
   "outputs": [],
   "source": [
    "sent_toks <- tokens(text, what = 'sentence')"
   ]
  },
  {
   "cell_type": "code",
   "execution_count": null,
   "id": "0bd26b3d-1683-4998-8a6f-271c0e98dec3",
   "metadata": {},
   "outputs": [],
   "source": [
    "sent_toks"
   ]
  },
  {
   "cell_type": "code",
   "execution_count": null,
   "id": "63040087-11da-4388-8b98-36e2890e048d",
   "metadata": {},
   "outputs": [],
   "source": [
    "word_toks[[1]]"
   ]
  },
  {
   "cell_type": "code",
   "execution_count": null,
   "id": "fa700fa5-5566-4db9-b14a-1b8275a125fb",
   "metadata": {
    "tags": []
   },
   "outputs": [],
   "source": [
    "words = list()\n",
    "\n",
    "for (i in sent_toks[[1]]) {\n",
    "    for (w in tokens(i)[[1]]) {\n",
    "        words <- append(words,w)\n",
    "    }\n",
    "}\n",
    "\n",
    "words"
   ]
  },
  {
   "cell_type": "code",
   "execution_count": null,
   "id": "893f414d-fff4-4de0-9293-0d8b40dd6d94",
   "metadata": {},
   "outputs": [],
   "source": [
    "sent_toks <- tokens(c('Call me Ishmael.  That\\'s my name.',\n",
    "                      'Call me Ben.  That used to be my name.'),\n",
    "                      what = 'sentence')"
   ]
  },
  {
   "cell_type": "code",
   "execution_count": null,
   "id": "40daa9da-20b7-4237-b19d-ef1cead49f4c",
   "metadata": {},
   "outputs": [],
   "source": [
    "sent_toks"
   ]
  },
  {
   "cell_type": "code",
   "execution_count": null,
   "id": "892b2f4c-23f7-4033-a22a-6e0e5690f559",
   "metadata": {
    "tags": []
   },
   "outputs": [],
   "source": [
    "words = list()\n",
    "\n",
    "for (i in (1:length(sent_toks))) {\n",
    "    for (s in (1:length(sent_toks[[i]]))) {\n",
    "        print(sent_toks[[i]][[s]])\n",
    "    }\n",
    "}\n",
    "\n",
    "words"
   ]
  },
  {
   "cell_type": "markdown",
   "id": "01707337-6707-404f-bd64-407d1e977032",
   "metadata": {},
   "source": [
    "## Stopword removal"
   ]
  },
  {
   "cell_type": "code",
   "execution_count": null,
   "id": "30ed5bab-6cea-4747-883f-846be97ee57a",
   "metadata": {},
   "outputs": [],
   "source": [
    "stopwords(\"english\")"
   ]
  },
  {
   "cell_type": "code",
   "execution_count": null,
   "id": "56882f80-1640-4a60-b162-d4e879ebe663",
   "metadata": {},
   "outputs": [],
   "source": [
    "word_toks[[1]]"
   ]
  },
  {
   "cell_type": "code",
   "execution_count": null,
   "id": "6f484a9f-3835-4559-a923-4e111dd4448c",
   "metadata": {},
   "outputs": [],
   "source": [
    "words = list()\n",
    "\n",
    "for (i in word_toks[[1]]) {\n",
    "    if (!(i %in% stopwords(\"english\"))) {\n",
    "        print(i)\n",
    "    }\n",
    "}\n",
    "\n",
    "words"
   ]
  },
  {
   "cell_type": "code",
   "execution_count": null,
   "id": "c8a83743-3af4-43c7-9bc8-dff7f6b48909",
   "metadata": {},
   "outputs": [],
   "source": [
    "word_toks_v2 <- tokens(text) %>% tokens_remove(stopwords(\"english\")) \n",
    "word_toks_v2[[1]]"
   ]
  },
  {
   "cell_type": "code",
   "execution_count": null,
   "id": "467c0e08-e1c4-4a12-aa04-726368c60631",
   "metadata": {},
   "outputs": [],
   "source": [
    "word_toks_v2 <- tokens(text, remove_punct = TRUE) %>% tokens_remove(stopwords(\"english\")) \n",
    "word_toks_v2[[1]]"
   ]
  },
  {
   "cell_type": "code",
   "execution_count": null,
   "id": "a0cf32d2-4a91-41f7-a4e4-f21b9c16864c",
   "metadata": {},
   "outputs": [],
   "source": [
    "word_toks_v2 <- tokens(text, remove_punct = TRUE) %>% \n",
    "                tokens_remove(stopwords(\"english\")) %>% \n",
    "                tokens_select('p+', selection = \"remove\", valuetype = 'regex')\n",
    "word_toks_v2[[1]]"
   ]
  },
  {
   "cell_type": "code",
   "execution_count": null,
   "id": "cd414b05-2e06-4ec4-bde8-06b44eaecbc7",
   "metadata": {},
   "outputs": [],
   "source": [
    "word_toks_v2 <- tokens(text, remove_punct = TRUE) %>% \n",
    "                tokens_remove(stopwords(\"english\")) %>% \n",
    "                tokens_select('p+', selection = \"remove\", valuetype = 'regex') %>%\n",
    "                tokens_select('.*\\u2014.*', selection = \"keep\", valuetype = 'regex')\n",
    "word_toks_v2[[1]]"
   ]
  },
  {
   "cell_type": "code",
   "execution_count": null,
   "id": "cc61b28f-800f-4420-a58c-3d3462d629a4",
   "metadata": {},
   "outputs": [],
   "source": [
    "word_toks_v3 <- tokens(text, remove_punct = TRUE)\n",
    "word_toks_v3[[1]]"
   ]
  },
  {
   "cell_type": "code",
   "execution_count": null,
   "id": "3567c552-fbca-40f1-aa0d-a1a3f4903c3c",
   "metadata": {},
   "outputs": [],
   "source": [
    "word_toks_v3 <- tokens(text, remove_punct = TRUE) %>% \n",
    "                tokens_split(separator = '\\u2014')\n",
    "word_toks_v3[[1]]"
   ]
  },
  {
   "cell_type": "code",
   "execution_count": null,
   "id": "05051617-c47f-41a1-8f30-1f150509c6fd",
   "metadata": {},
   "outputs": [],
   "source": [
    "kwic(word_toks_v3, pattern = 'long')"
   ]
  },
  {
   "cell_type": "code",
   "execution_count": null,
   "id": "10bfd166-bd58-4d52-9185-de38d44692c2",
   "metadata": {},
   "outputs": [],
   "source": [
    "kwic(word_toks_v3, \n",
    "     pattern = '^[s]+', \n",
    "     valuetype = 'regex')"
   ]
  },
  {
   "cell_type": "code",
   "execution_count": null,
   "id": "2f6269c3-9651-46bf-8a09-56278a091c04",
   "metadata": {},
   "outputs": [],
   "source": [
    "kwic(word_toks_v3, \n",
    "     pattern = '^[s]+', \n",
    "     valuetype = 'regex',\n",
    "     case_insensitive = FALSE)"
   ]
  },
  {
   "cell_type": "code",
   "execution_count": null,
   "id": "8ced0e11-1b64-40c1-b683-e018ae15fac6",
   "metadata": {},
   "outputs": [],
   "source": [
    "kwic(word_toks_v3, \n",
    "     pattern = 's*', \n",
    "     valuetype = 'glob')"
   ]
  },
  {
   "cell_type": "markdown",
   "id": "32907fd3-f01d-4a1b-b802-95799f1b4f87",
   "metadata": {},
   "source": [
    "## N-grams"
   ]
  },
  {
   "cell_type": "code",
   "execution_count": null,
   "id": "fab976c0-0559-4ced-b275-5d2f8c342752",
   "metadata": {},
   "outputs": [],
   "source": [
    "twograms <- tokens_ngrams(word_toks_v3, n=2)\n",
    "twograms[[1]]"
   ]
  },
  {
   "cell_type": "code",
   "execution_count": null,
   "id": "ec96ff67-0956-42ca-9b32-e51a31d247a3",
   "metadata": {},
   "outputs": [],
   "source": [
    "threegrams <- tokens_ngrams(word_toks_v3, n=3)\n",
    "threegrams[[1]]"
   ]
  },
  {
   "cell_type": "code",
   "execution_count": null,
   "id": "e3e15349-9a26-472d-a67b-dc1afb67c1fd",
   "metadata": {},
   "outputs": [],
   "source": [
    "word_toks_v3 <- tokens(text, remove_punct = TRUE) %>% \n",
    "                tokens_remove(stopwords(\"english\"))\n",
    "threegrams <- tokens_ngrams(word_toks_v3, n=3)\n",
    "threegrams[[1]]"
   ]
  },
  {
   "cell_type": "code",
   "execution_count": null,
   "id": "39fe2d92-aafb-493a-a965-0836339da896",
   "metadata": {},
   "outputs": [],
   "source": [
    "stopwords(\"english\")"
   ]
  },
  {
   "cell_type": "code",
   "execution_count": null,
   "id": "30c33347-2920-4255-b961-df5ed492dfc6",
   "metadata": {},
   "outputs": [],
   "source": [
    "s <- stopwords(\"english\")\n",
    "keepers <- c('me','myself','I')\n",
    "s[!(s %in% keepers)]"
   ]
  },
  {
   "cell_type": "code",
   "execution_count": null,
   "id": "22f77ad4-ab1f-46f6-b78c-ed0dec694ef3",
   "metadata": {},
   "outputs": [],
   "source": [
    "s <- stopwords(\"english\")\n",
    "keepers <- c('me','myself','i')\n",
    "s[!(s %in% keepers)]"
   ]
  },
  {
   "cell_type": "code",
   "execution_count": null,
   "id": "28b1f065-1aa9-45ee-9bb9-8cbac1391c8a",
   "metadata": {},
   "outputs": [],
   "source": [
    "s <- stopwords(\"english\")\n",
    "keepers <- c('me','myself','i')\n",
    "s <- s[!(s %in% keepers)]\n",
    "\n",
    "word_toks_v3 <- tokens(text, remove_punct = TRUE) %>% \n",
    "                tokens_remove(s)\n",
    "\n",
    "threegrams <- tokens_ngrams(word_toks_v3, n=3)\n",
    "threegrams[[1]]"
   ]
  },
  {
   "cell_type": "code",
   "execution_count": null,
   "id": "b374ccb8-9ec4-4190-a5b0-49ce70b57b5e",
   "metadata": {},
   "outputs": [],
   "source": [
    "s <- stopwords(\"english\")\n",
    "losers <- c('ishmael')\n",
    "s <- append(s,losers)\n",
    "keepers <- c('me','myself','i')\n",
    "s <- s[!(s %in% keepers)]\n",
    "print(s)\n",
    "\n",
    "word_toks_v3 <- tokens(text, remove_punct = TRUE) %>% \n",
    "                tokens_remove(s)\n",
    "\n",
    "threegrams <- tokens_ngrams(word_toks_v3, n=3)\n",
    "threegrams[[1]]"
   ]
  },
  {
   "cell_type": "markdown",
   "id": "4699a33b-c842-4434-b2be-27635c050df2",
   "metadata": {},
   "source": [
    "What????? Isn't Ishmael the wrong case?\n",
    "* tokens_remove has case_insensitive = TRUE by default"
   ]
  },
  {
   "cell_type": "code",
   "execution_count": null,
   "id": "bbd93cda-1e9a-4d0e-aef1-2ddd1037d096",
   "metadata": {},
   "outputs": [],
   "source": [
    "s <- stopwords(\"english\")\n",
    "losers <- c('ishmael')\n",
    "s <- append(s,losers)\n",
    "keepers <- c('me','myself','i')\n",
    "s <- s[!(s %in% keepers)]\n",
    "\n",
    "word_toks_v3 <- tokens(text, remove_punct = TRUE) %>% \n",
    "                tokens_remove(s, case_insensitive = TRUE)\n",
    "                # tokens_remove(s, case_insensitive = FALSE)\n",
    "\n",
    "threegrams <- tokens_ngrams(word_toks_v3, n=3)\n",
    "threegrams[[1]]"
   ]
  },
  {
   "cell_type": "markdown",
   "id": "f9f730a2-48ce-4610-bd70-021e6ff9d884",
   "metadata": {},
   "source": [
    "## Stemming and Tagging"
   ]
  },
  {
   "cell_type": "code",
   "execution_count": null,
   "id": "1b1d9c82-1f75-4b8c-964b-4d0ec7a71422",
   "metadata": {},
   "outputs": [],
   "source": [
    "text2 <- 'Ishmael sailed because sailing and wanting to sail was in his blood.'"
   ]
  },
  {
   "cell_type": "code",
   "execution_count": null,
   "id": "9160cd91-8de2-405f-ae5f-372c2fef1ac8",
   "metadata": {},
   "outputs": [],
   "source": [
    "tokens(text2)"
   ]
  },
  {
   "cell_type": "code",
   "execution_count": null,
   "id": "29fc5de7-a257-4d74-ad87-0960e70990e8",
   "metadata": {},
   "outputs": [],
   "source": [
    "tokens(text2) %>% \n",
    "tokens_wordstem()"
   ]
  },
  {
   "cell_type": "code",
   "execution_count": null,
   "id": "4a926954-033c-452f-a01c-d78c4436b8d7",
   "metadata": {},
   "outputs": [],
   "source": [
    "tokens(text2, remove_punct = TRUE) %>%\n",
    "tokens_remove(stopwords(\"english\")) %>% \n",
    "tokens_wordstem()"
   ]
  },
  {
   "cell_type": "markdown",
   "id": "2c4ef597-597f-4e5b-981c-4aeebcc49593",
   "metadata": {},
   "source": [
    "Part-of-speech\n",
    "\n",
    "We'll turn to spacy and its linguistic capabilities\n",
    "* https://spacy.io/usage/linguistic-features"
   ]
  },
  {
   "cell_type": "code",
   "execution_count": null,
   "id": "0bed8984-e0a6-4e61-9c9e-9ebfa5449ee6",
   "metadata": {},
   "outputs": [],
   "source": [
    "library(\"spacyr\")\n",
    "packageVersion(\"spacyr\")"
   ]
  },
  {
   "cell_type": "markdown",
   "id": "2f943f44-8e88-4704-9351-f33bfc0bdd9f",
   "metadata": {},
   "source": [
    "https://www.rdocumentation.org/packages/spacyr/versions/1.2.1"
   ]
  },
  {
   "cell_type": "code",
   "execution_count": null,
   "id": "7a43e06f-018e-4610-add7-f4ca76c5bb7b",
   "metadata": {},
   "outputs": [],
   "source": [
    "# this uses \"en_core_web_sm\" by default\n",
    "spacy_initialize()"
   ]
  },
  {
   "cell_type": "code",
   "execution_count": null,
   "id": "0595d5d5-4b8e-42eb-9aa5-3fcd988cdc2e",
   "metadata": {},
   "outputs": [],
   "source": [
    "text2"
   ]
  },
  {
   "cell_type": "code",
   "execution_count": null,
   "id": "96f714fa-f5fe-4b3e-9cad-5050c3c3cff4",
   "metadata": {},
   "outputs": [],
   "source": [
    "txtparsed <- spacy_parse(text2, tag = TRUE, pos = TRUE)"
   ]
  },
  {
   "cell_type": "code",
   "execution_count": null,
   "id": "cac54f8b-4dd2-44b4-bd73-1877ea645be9",
   "metadata": {},
   "outputs": [],
   "source": [
    "txtparsed"
   ]
  },
  {
   "cell_type": "code",
   "execution_count": null,
   "id": "d5d47f87-7744-4ba5-8749-24302720ebd2",
   "metadata": {},
   "outputs": [],
   "source": [
    "txt2 <- c(doc1 = \"The fast cat catches mice.\\\\nThe quick brown dog jumped.\", \n",
    "          doc2 = \"This is the second document.\",\n",
    "          doc3 = \"This is a \\\\\\\"quoted\\\\\\\" text.\" )\n",
    "spacy_parse(txt2, entity = TRUE, dependency = TRUE)"
   ]
  },
  {
   "cell_type": "code",
   "execution_count": null,
   "id": "caa0e0fc-6574-4328-b9dc-51bcfc452e2c",
   "metadata": {},
   "outputs": [],
   "source": [
    "txt3 <- \"We analyzed the Supreme Court with three natural language processing tools.\" \n",
    "spacy_parse(txt3, entity = TRUE, nounphrase = TRUE)\n",
    "spacy_parse(txt3, additional_attributes = c(\"like_num\", \"is_punct\"))"
   ]
  },
  {
   "cell_type": "code",
   "execution_count": null,
   "id": "74bd0068-7fd0-4bc7-9adc-14617cb42071",
   "metadata": {},
   "outputs": [],
   "source": [
    "s <- 'Once upon a time there was a cat.  It was black and fluffy.'"
   ]
  },
  {
   "cell_type": "code",
   "execution_count": null,
   "id": "0b69388d-7bbb-4a41-8e89-371d6c4187bf",
   "metadata": {},
   "outputs": [],
   "source": [
    "spacy_tokenize(s)"
   ]
  },
  {
   "cell_type": "code",
   "execution_count": null,
   "id": "92a760c9-52b5-47f0-95af-f64b7234cf76",
   "metadata": {},
   "outputs": [],
   "source": [
    "spacy_parse(s)"
   ]
  },
  {
   "cell_type": "code",
   "execution_count": null,
   "id": "0bb9b8f6-db16-443f-a58e-44c7b782fdde",
   "metadata": {},
   "outputs": [],
   "source": [
    "s_reduced <- spacy_tokenize(s, \n",
    "                            remove_punct=TRUE, \n",
    "                            remove_separators=TRUE)"
   ]
  },
  {
   "cell_type": "code",
   "execution_count": null,
   "id": "d8795953-5d5a-4854-9073-8ce201b2bed1",
   "metadata": {},
   "outputs": [],
   "source": [
    "spacy_parse(s_reduced)"
   ]
  },
  {
   "cell_type": "code",
   "execution_count": null,
   "id": "2e067475-73d7-47a6-9bfc-b9b003851df6",
   "metadata": {},
   "outputs": [],
   "source": [
    "s_reduced <- spacy_tokenize(s, \n",
    "                            remove_punct=TRUE, \n",
    "                            remove_separators=TRUE)"
   ]
  },
  {
   "cell_type": "markdown",
   "id": "647a597a-e60c-4e51-9d53-d9351d7bde7e",
   "metadata": {},
   "source": [
    "... getting a little ahead of ourselves, but...."
   ]
  },
  {
   "cell_type": "code",
   "execution_count": null,
   "id": "c40b1d85-f2a1-43ae-8187-25770707f03e",
   "metadata": {},
   "outputs": [],
   "source": [
    "cat_dfm <- dfm(s_reduced)"
   ]
  },
  {
   "cell_type": "markdown",
   "id": "3bd2b5a1-a955-4c9b-9f85-f1e20b643740",
   "metadata": {},
   "source": [
    "Quanteda objects need to be reorganized to play nicely as inputs to functions from other NLP libraries, and vice versa"
   ]
  },
  {
   "cell_type": "code",
   "execution_count": null,
   "id": "41f6a88f-e032-45df-9073-5da5bd7846f8",
   "metadata": {},
   "outputs": [],
   "source": [
    "s_reduced <- tokens(s,\n",
    "                    remove_punct=TRUE,\n",
    "                    remove_separators=TRUE)"
   ]
  },
  {
   "cell_type": "code",
   "execution_count": null,
   "id": "5b72e06e-e02c-4cd0-9c99-a9deb5fa4f2f",
   "metadata": {},
   "outputs": [],
   "source": [
    "s_reduced"
   ]
  },
  {
   "cell_type": "code",
   "execution_count": null,
   "id": "1f8a9de4-a7e5-4046-b413-8f11195e668e",
   "metadata": {},
   "outputs": [],
   "source": [
    "cat_dfm <- dfm(s_reduced)"
   ]
  },
  {
   "cell_type": "code",
   "execution_count": null,
   "id": "d275b388-f32c-4d7e-a5ee-2315ff5f0f07",
   "metadata": {},
   "outputs": [],
   "source": [
    "cat_dfm"
   ]
  },
  {
   "cell_type": "code",
   "execution_count": null,
   "id": "05fcdc79-4a01-4478-b851-bad0b5601b96",
   "metadata": {},
   "outputs": [],
   "source": [
    "catnews <- c('Once upon a time there was a cat.  It was black and fluffy.',\n",
    "             'Ben has two cats named Archer and Lana, plus one blond Chihuahua Pearl.',\n",
    "             'Archer is the real head of the household, as both Pearl and Lana can attest.')"
   ]
  },
  {
   "cell_type": "code",
   "execution_count": null,
   "id": "6adbe2e0-920e-49df-b376-e6a9780842dc",
   "metadata": {},
   "outputs": [],
   "source": [
    "spacy_parse(catnews)"
   ]
  },
  {
   "cell_type": "code",
   "execution_count": null,
   "id": "b3fae162-4df9-4e8d-9d9a-53c7fb928429",
   "metadata": {},
   "outputs": [],
   "source": [
    "txtparsed <- spacy_parse(catnews)"
   ]
  },
  {
   "cell_type": "code",
   "execution_count": null,
   "id": "b0eee692-2063-4040-b022-1fc9845ccf0d",
   "metadata": {},
   "outputs": [],
   "source": [
    "(nouns <- with(txtparsed, subset(token, pos == \"NOUN\")))"
   ]
  },
  {
   "cell_type": "code",
   "execution_count": null,
   "id": "0752e9fc-696c-4ae8-a806-27176fc16e6d",
   "metadata": {},
   "outputs": [],
   "source": [
    "(propernouns <- with(txtparsed, subset(token, pos == \"PROPN\")))"
   ]
  },
  {
   "cell_type": "code",
   "execution_count": null,
   "id": "d2846a50-d32a-4d4e-a39d-4eee37d4d1c3",
   "metadata": {},
   "outputs": [],
   "source": [
    "# note: the following will give an error:\n",
    "# cat_dfm <- dfm(txtparsed)\n",
    "# what we really want is:\n",
    "(cat_dfm <- dfm(tokens(catnews)))"
   ]
  },
  {
   "cell_type": "code",
   "execution_count": null,
   "id": "32903c0c-11c8-4b74-a204-3cc316fcae9e",
   "metadata": {},
   "outputs": [],
   "source": [
    "cattoks <- tokens(catnews, remove_punct=TRUE)\n",
    "catdfm <- dfm(cattoks) %>%\n",
    "            dfm_remove(stopwords('en'))"
   ]
  },
  {
   "cell_type": "code",
   "execution_count": null,
   "id": "af9a88eb-38ea-4ed4-9e4b-ec2360b098ea",
   "metadata": {},
   "outputs": [],
   "source": [
    "catdfm"
   ]
  },
  {
   "cell_type": "code",
   "execution_count": null,
   "id": "1fc020ac-4776-4acd-b2ea-fd9fe770605e",
   "metadata": {},
   "outputs": [],
   "source": [
    "dfm_select(catdfm, pattern = propernouns)"
   ]
  },
  {
   "cell_type": "code",
   "execution_count": null,
   "id": "2414685b-a662-47b4-99b4-71a8bebf87b0",
   "metadata": {},
   "outputs": [],
   "source": [
    "library(\"quanteda.textplots\")"
   ]
  },
  {
   "cell_type": "code",
   "execution_count": null,
   "id": "bd8a6315-5567-426d-9c92-0260989a157d",
   "metadata": {},
   "outputs": [],
   "source": [
    "textplot_wordcloud(catdfm)"
   ]
  },
  {
   "cell_type": "code",
   "execution_count": null,
   "id": "180dc2d4-5cbb-4110-8edb-3b58fae5a389",
   "metadata": {},
   "outputs": [],
   "source": [
    "# :(\n",
    "catnews <- c('Once upon a time there was a cat.  \n",
    "             It was black, oh so black, and fluffy, oh so fluffy.',\n",
    "             'Ben has two cats (neither black) named Archer and Lana, \n",
    "             plus one (not black but blond) Chihuahua Pearl.',\n",
    "             'Archer is the real head of the household, even though oh so (OH SO) fluffy,\n",
    "             as both Pearl and Lana can attest.')"
   ]
  },
  {
   "cell_type": "code",
   "execution_count": null,
   "id": "e39c3f68-cbe8-4e0d-b82d-a9899d426966",
   "metadata": {},
   "outputs": [],
   "source": [
    "cattoks <- tokens(catnews, remove_punct=TRUE)\n",
    "catdfm <- dfm(cattoks) %>%\n",
    "            dfm_remove(stopwords('en'))"
   ]
  },
  {
   "cell_type": "code",
   "execution_count": null,
   "id": "fef89942-2666-4143-915b-abb4c2e1cefe",
   "metadata": {},
   "outputs": [],
   "source": [
    "textplot_wordcloud(catdfm)"
   ]
  },
  {
   "cell_type": "code",
   "execution_count": null,
   "id": "22bd1ea1-4557-4845-af32-c55f95ba563f",
   "metadata": {},
   "outputs": [],
   "source": [
    "inaugural <- corpus_subset(data_corpus_inaugural, Year <= 1826)"
   ]
  },
  {
   "cell_type": "code",
   "execution_count": null,
   "id": "cab06271-727c-45d5-aadb-8682ad773ca1",
   "metadata": {},
   "outputs": [],
   "source": [
    "dfm_inaug <- tokens(inaugural, remove_punct = TRUE) %>% \n",
    "    dfm() %>%\n",
    "    dfm_remove(stopwords('english')) %>%\n",
    "    dfm_trim(min_termfreq = 10)"
   ]
  },
  {
   "cell_type": "code",
   "execution_count": null,
   "id": "fc621798-2849-4b25-b682-035b1b209e35",
   "metadata": {},
   "outputs": [],
   "source": [
    "textplot_wordcloud(dfm_inaug)"
   ]
  },
  {
   "cell_type": "code",
   "execution_count": null,
   "id": "742f8c9f-c04a-4021-b39c-be0e84dca3dd",
   "metadata": {},
   "outputs": [],
   "source": [
    "set.seed(100)\n",
    "textplot_wordcloud(dfm_inaug)"
   ]
  },
  {
   "cell_type": "code",
   "execution_count": null,
   "id": "7fd06bef-c7ce-4b20-aa31-e855b66acd61",
   "metadata": {},
   "outputs": [],
   "source": [
    "textplot_wordcloud(dfm_inaug, #min_count = 10,\n",
    "     color = c('red', 'pink', 'green', 'purple', 'orange', 'blue'))"
   ]
  },
  {
   "cell_type": "code",
   "execution_count": null,
   "id": "1d6f07d7-50b2-4d20-8cb2-402603813905",
   "metadata": {},
   "outputs": [],
   "source": [
    "kwic(tokens(inaugural), pattern = \"american\") %>%\n",
    "    textplot_xray()"
   ]
  },
  {
   "cell_type": "code",
   "execution_count": null,
   "id": "62c195de-1d78-41c5-9af2-66915a4acb99",
   "metadata": {},
   "outputs": [],
   "source": [
    "textplot_xray(\n",
    "    kwic(tokens(inaugural), pattern = \"american\"),\n",
    "    kwic(tokens(inaugural), pattern = \"government\"),\n",
    "    kwic(tokens(inaugural), pattern = \"war\")\n",
    ")"
   ]
  },
  {
   "cell_type": "code",
   "execution_count": null,
   "id": "54672f50-28a2-45d9-bb08-6d3b919398fb",
   "metadata": {},
   "outputs": [],
   "source": [
    "textplot_xray(\n",
    "    kwic(tokens(inaugural), pattern = \"american\"),\n",
    "    kwic(tokens(inaugural), pattern = \"government\"),\n",
    "    kwic(tokens(inaugural), pattern = \"war\"),\n",
    "    scale = 'absolute'\n",
    ")"
   ]
  },
  {
   "cell_type": "code",
   "execution_count": null,
   "id": "6a9ebc02-b60d-4cfe-89c1-47a0b91bb57c",
   "metadata": {},
   "outputs": [],
   "source": [
    "library(\"quanteda.textstats\")"
   ]
  },
  {
   "cell_type": "code",
   "execution_count": null,
   "id": "cbef6250-9665-48c4-994e-2e2875fa30f8",
   "metadata": {},
   "outputs": [],
   "source": [
    "dfm_inaug"
   ]
  },
  {
   "cell_type": "code",
   "execution_count": null,
   "id": "467440ea-42d1-4a0d-ab09-4607a6dea1d1",
   "metadata": {},
   "outputs": [],
   "source": [
    "features_dfm_inaug <- textstat_frequency(dfm_inaug, n = 25)"
   ]
  },
  {
   "cell_type": "code",
   "execution_count": null,
   "id": "819b5a65-7a6c-4c9e-a3f0-739363365fbe",
   "metadata": {},
   "outputs": [],
   "source": [
    "head(features_dfm_inaug)"
   ]
  },
  {
   "cell_type": "code",
   "execution_count": null,
   "id": "217876d1-6f38-45ce-902f-de82149b4368",
   "metadata": {},
   "outputs": [],
   "source": [
    "features_dfm_inaug$feature <- with(features_dfm_inaug, reorder(feature, -frequency))"
   ]
  },
  {
   "cell_type": "code",
   "execution_count": null,
   "id": "a75f50b7-c246-4b27-95fc-ee3123ed6073",
   "metadata": {},
   "outputs": [],
   "source": [
    "head(features_dfm_inaug)"
   ]
  },
  {
   "cell_type": "code",
   "execution_count": null,
   "id": "8727136c-f50d-41dd-a288-04f20ca4819c",
   "metadata": {},
   "outputs": [],
   "source": [
    "library(ggplot2)"
   ]
  },
  {
   "cell_type": "code",
   "execution_count": null,
   "id": "443e5553-a9de-4ea9-b5ab-73acc643ad43",
   "metadata": {},
   "outputs": [],
   "source": [
    "ggplot(features_dfm_inaug, aes(x = feature, y = frequency)) +\n",
    "    geom_point() + \n",
    "    theme(axis.text.x = element_text(angle = 90, hjust = 1))"
   ]
  },
  {
   "cell_type": "code",
   "execution_count": null,
   "id": "b610a942-4d1d-45b5-b49a-e666f5bd041f",
   "metadata": {},
   "outputs": [],
   "source": [
    "dfm_inaug@docvars"
   ]
  },
  {
   "cell_type": "code",
   "execution_count": null,
   "id": "52ed24f3-18c2-4d34-81a1-9e84e9397680",
   "metadata": {},
   "outputs": [],
   "source": [
    "freq_weight <- textstat_frequency(dfm_inaug, \n",
    "                                  n = 10, \n",
    "                                  groups = dfm_inaug$President)"
   ]
  },
  {
   "cell_type": "code",
   "execution_count": null,
   "id": "bc41ad98-b45e-40d3-affc-b266d43e234b",
   "metadata": {},
   "outputs": [],
   "source": [
    "ggplot(data = freq_weight, \n",
    "       aes(x = nrow(freq_weight):1, y = frequency)) +\n",
    "geom_point() +\n",
    "facet_wrap(~ group, scales = \"free\") +\n",
    "coord_flip() + \n",
    "scale_x_continuous(breaks = nrow(freq_weight):1,\n",
    "                labels = freq_weight$feature)\n"
   ]
  }
 ],
 "metadata": {
  "kernelspec": {
   "display_name": "R",
   "language": "R",
   "name": "ir"
  },
  "language_info": {
   "codemirror_mode": "r",
   "file_extension": ".r",
   "mimetype": "text/x-r-source",
   "name": "R",
   "pygments_lexer": "r",
   "version": "4.2.3"
  }
 },
 "nbformat": 4,
 "nbformat_minor": 5
}
