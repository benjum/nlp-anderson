{
 "cells": [
  {
   "cell_type": "markdown",
   "id": "f7df6e48-9ad0-47d8-a18c-ac0a7eef4311",
   "metadata": {},
   "source": [
    "# Importing the libraries and data"
   ]
  },
  {
   "cell_type": "code",
   "execution_count": null,
   "id": "10dfb81a-5244-4362-9879-a97749e47216",
   "metadata": {},
   "outputs": [],
   "source": [
    "library('quanteda')\n",
    "library('quanteda.textplots')\n",
    "library(\"quanteda.textmodels\")\n",
    "library(\"topicmodels\")\n",
    "library(\"tidyverse\")"
   ]
  },
  {
   "cell_type": "code",
   "execution_count": null,
   "id": "2a5225cc-0ea9-4158-90bd-234bd8ca390e",
   "metadata": {},
   "outputs": [],
   "source": [
    "inaugural <- corpus_subset(data_corpus_inaugural, Year <= 1826)"
   ]
  },
  {
   "cell_type": "code",
   "execution_count": null,
   "id": "9cfef024-c621-4c8c-bd02-603b50a6f72f",
   "metadata": {},
   "outputs": [],
   "source": [
    "dfm_inaug <- tokens(inaugural, remove_punct = TRUE) %>% \n",
    "    dfm() %>%\n",
    "    dfm_remove(stopwords('english')) %>%\n",
    "    dfm_trim(min_termfreq = 10)"
   ]
  },
  {
   "cell_type": "code",
   "execution_count": null,
   "id": "c8c59a75-e8be-45cc-b1cc-c7cb7b18dba1",
   "metadata": {},
   "outputs": [],
   "source": [
    "dfm_inaug"
   ]
  },
  {
   "cell_type": "code",
   "execution_count": null,
   "id": "dce6a7f5-419d-421c-aa75-c06d333e6ab2",
   "metadata": {},
   "outputs": [],
   "source": [
    "textplot_wordcloud(dfm_inaug)"
   ]
  },
  {
   "cell_type": "code",
   "execution_count": null,
   "id": "38bb7a4e-00ce-428a-9c34-67ab16289129",
   "metadata": {},
   "outputs": [],
   "source": [
    "tokens(inaugural, remove_punct = TRUE) %>% \n",
    "    dfm() %>%\n",
    "    dfm_remove(stopwords('english')) %>%\n",
    "    dfm_trim(min_termfreq = 10) %>%\n",
    "    dfm_weight(scheme = 'count')\n",
    "    # dfm_weight(scheme = 'boolean')"
   ]
  },
  {
   "cell_type": "code",
   "execution_count": null,
   "id": "a8b2b08a-2e37-474f-b02d-e9fbd1913ce0",
   "metadata": {},
   "outputs": [],
   "source": [
    "tokens(inaugural, remove_punct = TRUE) %>% \n",
    "    dfm() %>%\n",
    "    dfm_remove(stopwords('english')) %>%\n",
    "    dfm_trim(min_termfreq = 10) %>%\n",
    "    # dfm_weight(scheme = 'count')\n",
    "    # dfm_weight(scheme = 'boolean')\n",
    "    # dfm_tfidf()\n",
    "    dfm_tfidf(scheme_tf = \"prop\")"
   ]
  },
  {
   "cell_type": "code",
   "execution_count": null,
   "id": "b6c4e052-9f3d-474a-82b9-47a87707b374",
   "metadata": {},
   "outputs": [],
   "source": [
    "dfm_inaug <- tokens(inaugural, remove_punct = TRUE) %>% \n",
    "    dfm() %>%\n",
    "    dfm_remove(stopwords('english')) %>%\n",
    "    dfm_wordstem() %>%\n",
    "    dfm_trim(min_termfreq = 10) %>%\n",
    "    dfm_weight(scheme = 'count')"
   ]
  },
  {
   "cell_type": "markdown",
   "id": "8f6e415c-269b-400e-8ac3-3c2b7975b528",
   "metadata": {},
   "source": [
    "# LSA"
   ]
  },
  {
   "cell_type": "code",
   "execution_count": null,
   "id": "85d0b483-d736-4dae-a60b-e33de11b097a",
   "metadata": {},
   "outputs": [],
   "source": [
    "inaug_lsa <- textmodel_lsa(dfm_inaug, nd=5)"
   ]
  },
  {
   "cell_type": "code",
   "execution_count": null,
   "id": "dba069ed-a5b8-4a00-9927-386ecbe814a9",
   "metadata": {},
   "outputs": [],
   "source": [
    "inaug_lsa$docs"
   ]
  },
  {
   "cell_type": "code",
   "execution_count": null,
   "id": "1c2cfbf3-991a-4255-b7b7-c63886f4014f",
   "metadata": {},
   "outputs": [],
   "source": [
    "inaug_lsa$features"
   ]
  },
  {
   "cell_type": "code",
   "execution_count": null,
   "id": "26d6f5f9-a38c-4ba4-92e4-b156d478a4d0",
   "metadata": {},
   "outputs": [],
   "source": [
    "head(as.data.frame(inaug_lsa$docs))"
   ]
  },
  {
   "cell_type": "code",
   "execution_count": null,
   "id": "8cc0b319-d91f-41ed-96e6-cff231221755",
   "metadata": {},
   "outputs": [],
   "source": [
    "inaug_lsa_longer <- rownames_to_column(as.data.frame(inaug_lsa$docs), var='speech') %>%\n",
    "                    pivot_longer(cols = V1:V5, names_to = \"topics\")"
   ]
  },
  {
   "cell_type": "code",
   "execution_count": null,
   "id": "5a1d33dc-3406-4ccc-b9be-635cf2c4ac3e",
   "metadata": {},
   "outputs": [],
   "source": [
    "inaug_lsa_longer"
   ]
  },
  {
   "cell_type": "code",
   "execution_count": null,
   "id": "1eb5a7d0-fea8-4bcf-926a-d67a85281969",
   "metadata": {},
   "outputs": [],
   "source": [
    "ggplot(inaug_lsa_longer, aes(speech,value,color=topics,fill=topics)) + \n",
    "geom_bar(stat='identity') + theme(aspect.ratio = 1) "
   ]
  },
  {
   "cell_type": "markdown",
   "id": "f4df6c85-79b5-4578-bdb4-9a89a0297691",
   "metadata": {},
   "source": [
    "This reveals one of the cons of LSA -> negative values in the document-topic matrix.  This poses problems for interpretability."
   ]
  },
  {
   "cell_type": "code",
   "execution_count": null,
   "id": "b5f4d7c1-d494-49a5-beaf-34a90fbc9753",
   "metadata": {},
   "outputs": [],
   "source": [
    "predict(inaug_lsa, dfm_inaug[1,])$docs_newspace"
   ]
  },
  {
   "cell_type": "code",
   "execution_count": null,
   "id": "f2bb71f8-0530-4fbb-a5fe-2dbd04bae7cb",
   "metadata": {},
   "outputs": [],
   "source": [
    "inaug_lsa$sk"
   ]
  },
  {
   "cell_type": "code",
   "execution_count": null,
   "id": "5517eea6-9154-4968-b570-52ff33dfb093",
   "metadata": {},
   "outputs": [],
   "source": [
    "head(inaug_lsa$features)"
   ]
  },
  {
   "cell_type": "code",
   "execution_count": null,
   "id": "7ff289cf-076c-4331-a9b1-330825723c0b",
   "metadata": {},
   "outputs": [],
   "source": [
    "word_topic_vals <- as.data.frame(inaug_lsa$features) %>%\n",
    "                    rownames_to_column(var='words') %>%\n",
    "                    pivot_longer(cols = V1:V5, names_to = \"topics\")\n",
    "word_topic_vals"
   ]
  },
  {
   "cell_type": "code",
   "execution_count": null,
   "id": "38b7c695-70e8-4538-8787-12ef259fdad5",
   "metadata": {},
   "outputs": [],
   "source": [
    "word_topic_vals_top5 <- word_topic_vals %>%\n",
    "                        arrange(desc(value)) %>%\n",
    "                        group_by(topics) %>%\n",
    "                        slice(1:5)\n",
    "word_topic_vals_top5"
   ]
  },
  {
   "cell_type": "code",
   "execution_count": null,
   "id": "ab5490ce-014e-4115-898e-f0792e30ccfb",
   "metadata": {},
   "outputs": [],
   "source": [
    "as.data.frame(word_topic_vals_top5)"
   ]
  },
  {
   "cell_type": "code",
   "execution_count": null,
   "id": "8e8fd071-715b-4f41-81d3-66122dacec6d",
   "metadata": {},
   "outputs": [],
   "source": [
    "ggplot(data = word_topic_vals_top5, \n",
    "       aes(x = nrow(word_topic_vals_top5):1, y = value)) +\n",
    "geom_point() +\n",
    "facet_wrap(~ topics, scales = \"free\") +\n",
    "coord_flip() + \n",
    "scale_x_continuous(breaks = nrow(word_topic_vals_top5):1,\n",
    "            labels = word_topic_vals_top5$words)"
   ]
  },
  {
   "cell_type": "markdown",
   "id": "4e112837-0876-422f-87ec-005176b4816c",
   "metadata": {},
   "source": [
    "# LDA"
   ]
  },
  {
   "cell_type": "code",
   "execution_count": null,
   "id": "60657bf4-6f5d-4c5c-aa16-454348b42d5b",
   "metadata": {},
   "outputs": [],
   "source": [
    "dfm_inaug <- tokens(inaugural, remove_punct = TRUE) %>% \n",
    "    dfm() %>%\n",
    "    dfm_remove(stopwords('english')) %>%\n",
    "    dfm_wordstem() %>%\n",
    "    dfm_trim(min_termfreq = 10) %>%\n",
    "    dfm_weight(scheme = 'count')"
   ]
  },
  {
   "cell_type": "code",
   "execution_count": null,
   "id": "f693cb75-f434-46b6-b3ee-da7d2310e9a9",
   "metadata": {},
   "outputs": [],
   "source": [
    "lda5 <- convert(dfm_inaug, to = \"topicmodels\") %>% \n",
    "        LDA(k = 5)"
   ]
  },
  {
   "cell_type": "code",
   "execution_count": null,
   "id": "c7fa819e-0048-4080-ac2e-484c5c3b2538",
   "metadata": {},
   "outputs": [],
   "source": [
    "terms(lda5, 10)"
   ]
  },
  {
   "cell_type": "code",
   "execution_count": null,
   "id": "18ea6ddf-1546-4608-bec3-4a1ce240073c",
   "metadata": {},
   "outputs": [],
   "source": [
    "dfm_inaug <- tokens(inaugural, remove_punct = TRUE) %>% \n",
    "    dfm() %>%\n",
    "    dfm_remove(stopwords('english')) %>%\n",
    "    dfm_wordstem() %>%\n",
    "    dfm_trim(min_termfreq = 10) %>%\n",
    "    dfm_weight(scheme = 'boolean')"
   ]
  },
  {
   "cell_type": "code",
   "execution_count": null,
   "id": "13510cb9-e677-4c22-9778-08fd306e94ca",
   "metadata": {},
   "outputs": [],
   "source": [
    "dfm_inaug"
   ]
  },
  {
   "cell_type": "code",
   "execution_count": null,
   "id": "691d553a-673e-446f-90f3-1d7a9899ef50",
   "metadata": {},
   "outputs": [],
   "source": [
    "lda5 <- convert(dfm_inaug, to = \"topicmodels\") %>% \n",
    "        LDA(k = 5)"
   ]
  },
  {
   "cell_type": "code",
   "execution_count": null,
   "id": "f5f89112-840e-4090-81f2-d6918f0fb929",
   "metadata": {},
   "outputs": [],
   "source": [
    "terms(lda5, 10)"
   ]
  },
  {
   "cell_type": "code",
   "execution_count": null,
   "id": "a75d43ad-34b0-4f8c-b54e-b7fab267e89e",
   "metadata": {},
   "outputs": [],
   "source": [
    "topics(lda5)"
   ]
  },
  {
   "cell_type": "code",
   "execution_count": null,
   "id": "8f8ea285-0e55-4ea9-bf5a-88190fe9ed05",
   "metadata": {},
   "outputs": [],
   "source": [
    "lda5@beta"
   ]
  },
  {
   "cell_type": "code",
   "execution_count": null,
   "id": "b1e3d53a-d431-47f0-9c1c-95bef508e085",
   "metadata": {},
   "outputs": [],
   "source": [
    "as.data.frame(t(lda5@beta), row.names = lda5@terms)"
   ]
  },
  {
   "cell_type": "code",
   "execution_count": null,
   "id": "deba73b1-4284-4458-a7c7-4f6e1e15f0d6",
   "metadata": {},
   "outputs": [],
   "source": [
    "as.data.frame(lda5@gamma, row.names = lda5@documents)"
   ]
  },
  {
   "cell_type": "code",
   "execution_count": null,
   "id": "76703359-9f21-4551-a244-b4b38c946039",
   "metadata": {},
   "outputs": [],
   "source": [
    "doc_topic_longer <- as.data.frame(lda5@gamma, row.names = lda5@documents) %>%\n",
    "                    rownames_to_column(var='speech') %>%\n",
    "                    pivot_longer(cols = V1:V5, names_to = \"topic\")"
   ]
  },
  {
   "cell_type": "code",
   "execution_count": null,
   "id": "fbb571e9-b55c-402a-a5dc-36825344cf5f",
   "metadata": {},
   "outputs": [],
   "source": [
    "doc_topic_longer"
   ]
  },
  {
   "cell_type": "code",
   "execution_count": null,
   "id": "0266176c-41f4-4758-b67a-74460fb1cb5e",
   "metadata": {},
   "outputs": [],
   "source": [
    "ggplot(doc_topic_longer, aes(value, speech, color=topic, fill=topic)) + \n",
    "geom_bar(stat='identity') + theme(aspect.ratio = 1) "
   ]
  },
  {
   "cell_type": "code",
   "execution_count": null,
   "id": "cd0209d4-b4f7-46a5-aced-dad94645ab08",
   "metadata": {},
   "outputs": [],
   "source": [
    "lda5_word_topic_vals <- as.data.frame(t(lda5@beta), row.names = lda5@terms)"
   ]
  },
  {
   "cell_type": "code",
   "execution_count": null,
   "id": "a836b71c-018f-4d2d-83ef-593a56d90f82",
   "metadata": {},
   "outputs": [],
   "source": [
    "word_topic_vals <- lda5_word_topic_vals %>%\n",
    "                    rownames_to_column(var='words') %>%\n",
    "                    pivot_longer(cols = V1:V5, names_to = \"topics\")\n",
    "word_topic_vals"
   ]
  },
  {
   "cell_type": "code",
   "execution_count": null,
   "id": "9f02dfc7-377e-47f3-a79d-00e0ecd42d7e",
   "metadata": {},
   "outputs": [],
   "source": [
    "word_topic_vals_top15 <- word_topic_vals %>%\n",
    "                        arrange(desc(value)) %>%\n",
    "                        group_by(topics) %>%\n",
    "                        slice(1:15)\n",
    "word_topic_vals_top15"
   ]
  },
  {
   "cell_type": "code",
   "execution_count": null,
   "id": "40cd56a3-4cda-465c-b5a3-45a9ddc2a42c",
   "metadata": {},
   "outputs": [],
   "source": [
    "ggplot(data = word_topic_vals_top15, \n",
    "       aes(x = nrow(word_topic_vals_top15):1, y = value)) +\n",
    "geom_point() +\n",
    "facet_wrap(~ topics, scales = \"free\") +\n",
    "coord_flip() + \n",
    "scale_x_continuous(breaks = nrow(word_topic_vals_top15):1,\n",
    "            labels = word_topic_vals_top15$words)"
   ]
  }
 ],
 "metadata": {
  "kernelspec": {
   "display_name": "R",
   "language": "R",
   "name": "ir"
  },
  "language_info": {
   "codemirror_mode": "r",
   "file_extension": ".r",
   "mimetype": "text/x-r-source",
   "name": "R",
   "pygments_lexer": "r",
   "version": "4.2.3"
  }
 },
 "nbformat": 4,
 "nbformat_minor": 5
}
